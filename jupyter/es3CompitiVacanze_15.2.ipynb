{
 "cells": [
  {
   "cell_type": "code",
   "execution_count": 1,
   "id": "fca5e870",
   "metadata": {},
   "outputs": [],
   "source": [
    "import turtle"
   ]
  },
  {
   "cell_type": "code",
   "execution_count": 2,
   "id": "95d95e0b",
   "metadata": {},
   "outputs": [],
   "source": [
    "def disegna_rett(tartaruga, rettangolo):\n",
    "    tartaruga.penup()  # Solleva la penna per spostarsi senza disegnare\n",
    "    tartaruga.goto(rettangolo.x, rettangolo.y)  # Sposta la tartaruga alla posizione iniziale\n",
    "    tartaruga.pendown()  # Abbassa la penna per iniziare a disegnare\n",
    "\n",
    "    for _ in range(2):  # Disegna i lati del rettangolo\n",
    "        tartaruga.forward(rettangolo.larghezza)\n",
    "        tartaruga.left(90)\n",
    "        tartaruga.forward(rettangolo.altezza)\n",
    "        tartaruga.left(90)\n",
    "\n",
    "    tartaruga.penup()  # Solleva la penna dopo aver completato il disegno"
   ]
  },
  {
   "cell_type": "code",
   "execution_count": 3,
   "id": "1ae9144e",
   "metadata": {},
   "outputs": [],
   "source": [
    "def main():\n",
    "    # Esempio di utilizzo:\n",
    "    schermo = turtle.Screen()\n",
    "    tartaruga = turtle.Turtle()\n",
    "\n",
    "    class Rettangolo:\n",
    "        def __init__(self, x, y, larghezza, altezza):\n",
    "            self.x = x\n",
    "            self.y = y\n",
    "            self.larghezza = larghezza\n",
    "            self.altezza = altezza\n",
    "\n",
    "    rettangolo = Rettangolo(50, 50, 100, 60)\n",
    "\n",
    "    disegna_rett(tartaruga, rettangolo)\n",
    "\n",
    "    tartaruga.hideturtle()  # Nasconde la tartaruga\n",
    "    schermo.exitonclick()  # Chiude il disegno quando si fa clic sulla finestra"
   ]
  },
  {
   "cell_type": "code",
   "execution_count": 4,
   "id": "e41be7c9",
   "metadata": {},
   "outputs": [],
   "source": [
    "if __name__ == '__main__':\n",
    "    main()"
   ]
  },
  {
   "cell_type": "code",
   "execution_count": null,
   "id": "5cb88996",
   "metadata": {},
   "outputs": [],
   "source": []
  }
 ],
 "metadata": {
  "kernelspec": {
   "display_name": "Python 3 (ipykernel)",
   "language": "python",
   "name": "python3"
  },
  "language_info": {
   "codemirror_mode": {
    "name": "ipython",
    "version": 3
   },
   "file_extension": ".py",
   "mimetype": "text/x-python",
   "name": "python",
   "nbconvert_exporter": "python",
   "pygments_lexer": "ipython3",
   "version": "3.11.4"
  }
 },
 "nbformat": 4,
 "nbformat_minor": 5
}
