{
 "cells": [
  {
   "cell_type": "markdown",
   "id": "2db3a56f",
   "metadata": {},
   "source": [
    "# titolo principale\n",
    "## titolo secondario\n",
    "### titolo secondario"
   ]
  },
  {
   "cell_type": "markdown",
   "id": "18e886a7",
   "metadata": {},
   "source": [
    "Questa *parola* è importante.\n",
    "\n",
    "Questa **parola** è ancora più importante\n",
    "Un elenco:\n",
    "- a\n",
    "- b\n",
    "- c\n",
    "Del codice:\n",
    "    f = lambda x:x**2\n",
    "    y = f(3)\n",
    "    print(y)\n",
    "    \n",
    "cosa fa questo codice?"
   ]
  },
  {
   "cell_type": "code",
   "execution_count": null,
   "id": "69bacfd2",
   "metadata": {},
   "outputs": [],
   "source": [
    "def f(x):\n",
    "    return x**2"
   ]
  },
  {
   "cell_type": "code",
   "execution_count": null,
   "id": "e788713b",
   "metadata": {},
   "outputs": [],
   "source": [
    "f(3)"
   ]
  },
  {
   "cell_type": "code",
   "execution_count": 1,
   "id": "708e370e",
   "metadata": {},
   "outputs": [],
   "source": [
    "f = lambda x: x**2"
   ]
  },
  {
   "cell_type": "code",
   "execution_count": 2,
   "id": "ded50b98",
   "metadata": {},
   "outputs": [
    {
     "data": {
      "text/plain": [
       "9"
      ]
     },
     "execution_count": 2,
     "metadata": {},
     "output_type": "execute_result"
    }
   ],
   "source": [
    "f(3)"
   ]
  },
  {
   "cell_type": "code",
   "execution_count": 3,
   "id": "8c31ad18",
   "metadata": {},
   "outputs": [],
   "source": [
    "somma = lambda a,b: a+b"
   ]
  },
  {
   "cell_type": "code",
   "execution_count": 4,
   "id": "e4717974",
   "metadata": {},
   "outputs": [
    {
     "data": {
      "text/plain": [
       "5"
      ]
     },
     "execution_count": 4,
     "metadata": {},
     "output_type": "execute_result"
    }
   ],
   "source": [
    "somma(2,3)"
   ]
  },
  {
   "cell_type": "markdown",
   "id": "9b1f939a",
   "metadata": {},
   "source": []
  }
 ],
 "metadata": {
  "kernelspec": {
   "display_name": "Python 3 (ipykernel)",
   "language": "python",
   "name": "python3"
  },
  "language_info": {
   "codemirror_mode": {
    "name": "ipython",
    "version": 3
   },
   "file_extension": ".py",
   "mimetype": "text/x-python",
   "name": "python",
   "nbconvert_exporter": "python",
   "pygments_lexer": "ipython3",
   "version": "3.11.4"
  }
 },
 "nbformat": 4,
 "nbformat_minor": 5
}
