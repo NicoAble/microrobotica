{
 "cells": [
  {
   "cell_type": "markdown",
   "id": "835c44ac",
   "metadata": {},
   "source": [
    "### esercizio 19.1\n",
    "Abbiamo visto nel Paragrafo 5.4 le istruzioni condizionali, che vengono usate di frequente\n",
    "per scegliere uno tra due valori alternativi, per esempio:\n",
    "if x > 0:\n",
    "y = math.log(x)\n",
    "else:\n",
    "y = float('nan')\n",
    "Questa istruzione controlla se x è positivo. Se lo è, calcola math.log, altrimenti math.log\n",
    "scatenerebbe un ValueError. Per evitare che il programma si arresti, generiamo un “NaN”,\n",
    "che è un valore a virgola mobile speciale che rappresenta “Not a Number” (Non è un\n",
    "Numero).\n",
    "Possiamo scrivere questa condizione in modo più conciso utilizzando un’espressione\n",
    "condizionale:\n",
    "\n",
    "    y = math.log(x) if x > 0 else float('nan')\n",
    "\n",
    "Si può quasi leggere questa riga come fosse: “y diventa log-x se x è maggiore di 0; altrimenti\n",
    "diventa NaN”.\n",
    "A volte, le funzioni ricorsive possono essere riscritte utilizzando le espressioni\n",
    "condizionali. Prendiamo ad esempio una versione ricorsiva di fattoriale:"
   ]
  },
  {
   "cell_type": "code",
   "execution_count": null,
   "id": "8e8779c2",
   "metadata": {},
   "outputs": [],
   "source": [
    "def coeff_binomiale(n, k):\n",
    "    \"\"\"Calcola il coefficiente binomiale \"n sopra k\".\n",
    "    n: numero di prove\n",
    "    k: numero di successi\n",
    "    ritorna: int\n",
    "    \"\"\"\n",
    "    return 1 if k == 0 else 0 if n == 0 else coeff_binomiale(n-1, k) + coeff_binomiale(n-1, k-1)"
   ]
  },
  {
   "cell_type": "code",
   "execution_count": 2,
   "id": "a633b411",
   "metadata": {},
   "outputs": [],
   "source": [
    "def main():\n",
    "    print(coeff_binomiale(2,1))"
   ]
  },
  {
   "cell_type": "code",
   "execution_count": 3,
   "id": "8f43b527",
   "metadata": {},
   "outputs": [
    {
     "name": "stdout",
     "output_type": "stream",
     "text": [
      "2\n"
     ]
    }
   ],
   "source": [
    "if __name__ == '__main__':\n",
    "    main()"
   ]
  },
  {
   "cell_type": "code",
   "execution_count": null,
   "id": "1e952ec9",
   "metadata": {},
   "outputs": [],
   "source": []
  }
 ],
 "metadata": {
  "kernelspec": {
   "display_name": "Python 3 (ipykernel)",
   "language": "python",
   "name": "python3"
  },
  "language_info": {
   "codemirror_mode": {
    "name": "ipython",
    "version": 3
   },
   "file_extension": ".py",
   "mimetype": "text/x-python",
   "name": "python",
   "nbconvert_exporter": "python",
   "pygments_lexer": "ipython3",
   "version": "3.11.4"
  }
 },
 "nbformat": 4,
 "nbformat_minor": 5
}
