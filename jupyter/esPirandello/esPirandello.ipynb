{
 "cells": [
  {
   "cell_type": "markdown",
   "id": "fedacdf8",
   "metadata": {},
   "source": [
    "## Esercizio su Sei personaggi in cerca di autore Pirandello"
   ]
  },
  {
   "cell_type": "code",
   "execution_count": 13,
   "id": "6aaa4224",
   "metadata": {},
   "outputs": [],
   "source": [
    "import random"
   ]
  },
  {
   "cell_type": "code",
   "execution_count": 14,
   "id": "8f5051e3",
   "metadata": {},
   "outputs": [],
   "source": [
    "BAD_CHARS=[\",\", \";\", \".\", \":\", \"?\", \"!\", \"?!\", \"'\", \"(\", \")\", \"-\", \"»\", \"«\"]\n",
    "GOOD_CHAR=\" \""
   ]
  },
  {
   "cell_type": "code",
   "execution_count": 21,
   "id": "86212044",
   "metadata": {},
   "outputs": [],
   "source": [
    "class TextGenerator():\n",
    "    def __init__(self, file_path, bad_chars=BAD_CHARS, good_char=GOOD_CHAR):\n",
    "        self.file_path=file_path\n",
    "        self.bad_chars=bad_chars\n",
    "        self.good_char=good_char\n",
    "        self.words = []\n",
    "        self.words_next = {}\n",
    "        \n",
    "    def file_listOfwords(self):\n",
    "        \"\"\"\n",
    "        this function returns the list of words contained in the file\n",
    "        Parameters:\n",
    "        - file: file name\n",
    "        - bad_chars: list of chars to be removed\n",
    "        - good_char: str, replacement char\n",
    "        -\n",
    "        Return \n",
    "        - list of strings\n",
    "        \"\"\"\n",
    "        file = open(self.file_path, \"r\", encoding=\"utf8\")\n",
    "        lines = file.readlines()\n",
    "        file.close()\n",
    "        lines_without_carriage_return=[line[:-1] for line in lines\n",
    "                                  if len(line)>1]\n",
    "        book= \" \".join(lines_without_carriage_return).lower()\n",
    "        for bad_char in BAD_CHARS:\n",
    "            book = book.replace(bad_char, GOOD_CHAR)\n",
    "        self.words=book.split(\" \")\n",
    "        self.words=[word for word in self.words if len(word)>0] #removing empty words\n",
    "        \n",
    "    def fit(self): #crea il dizionario\n",
    "        self.file_listOfwords()\n",
    "        \n",
    "        for i, word in enumerate(self.words):\n",
    "            if i<(len(self.words)-1):\n",
    "                if word in self.words_next:\n",
    "                    #pass\n",
    "                    self.words_next[word].append(self.words[i+1])\n",
    "                else:\n",
    "                    self.words_next[word]=[]\n",
    "                    self.words_next[word].append(self.words[i+1])\n",
    "        \n",
    "    def generate(self, first_word, lenght):\n",
    "        self.fit()\n",
    "        \n",
    "        libro=first_word\n",
    "        for _ in range(lenght):\n",
    "            ris=random.choice(self.words_next[first_word])\n",
    "            firts_word=ris\n",
    "            libro+=\" \" + ris\n",
    "        return libro\n",
    "        \n",
    "        "
   ]
  },
  {
   "cell_type": "code",
   "execution_count": 22,
   "id": "e96722a6",
   "metadata": {},
   "outputs": [
    {
     "data": {
      "text/plain": [
       "'la figliastra mia concerteremo vita figliastra mia prova figliastra parte afferri situazione mano afferri prima bambina danza nostra prima commedia mamma vede figliastra vasca stolidaggine illusione figliastra ventura madre taccia figliastra'"
      ]
     },
     "execution_count": 22,
     "metadata": {},
     "output_type": "execute_result"
    }
   ],
   "source": [
    "textGenerator = TextGenerator(\"./sei_personaggi_in_cerca_dautore_Luigi_Pirandello.txt\")\n",
    "libro=textGenerator.generate(\"la\", 30)\n",
    "libro\n"
   ]
  }
 ],
 "metadata": {
  "kernelspec": {
   "display_name": "Python 3 (ipykernel)",
   "language": "python",
   "name": "python3"
  },
  "language_info": {
   "codemirror_mode": {
    "name": "ipython",
    "version": 3
   },
   "file_extension": ".py",
   "mimetype": "text/x-python",
   "name": "python",
   "nbconvert_exporter": "python",
   "pygments_lexer": "ipython3",
   "version": "3.11.4"
  }
 },
 "nbformat": 4,
 "nbformat_minor": 5
}
