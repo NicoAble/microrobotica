{
 "cells": [
  {
   "cell_type": "markdown",
   "id": "561bcbd5",
   "metadata": {},
   "source": [
    "### ESERCIZIO 7_1\n",
    "Copiate il ciclo del Paragrafo 7.5 e incapsulatelo in una funzione di nome mia_radq\n",
    "che prenda a come parametro, scelga un valore appropriato di x, e restituisca una stima del valore\n",
    "della radice quadrata di a.\n",
    "Quale verifica, scrivete una funzione di nome test_radq che stampi una tabella come questa"
   ]
  },
  {
   "cell_type": "code",
   "execution_count": null,
   "id": "4f853c78",
   "metadata": {},
   "outputs": [],
   "source": [
    "import math"
   ]
  },
  {
   "cell_type": "code",
   "execution_count": null,
   "id": "7e3c1de7",
   "metadata": {},
   "outputs": [],
   "source": [
    "def mia_radq(a):\n",
    "    x = a / 2\n",
    "    while True:\n",
    "        y = (x + a/x) / 2\n",
    "        if y == x:\n",
    "            return(y)\n",
    "        x = y"
   ]
  },
  {
   "cell_type": "code",
   "execution_count": null,
   "id": "a1ab8fd7",
   "metadata": {},
   "outputs": [],
   "source": [
    "print(f\"a\\tmia_radq(a)\\tmath.sqrt(a)\\tdiff\")\n",
    "for i in range(1,10):\n",
    "    mr = mia_radq(i)\n",
    "    ms = math.sqrt(i)\n",
    "    print(f\"{i}\\t{mr:.6f}\\t{ms:.6f}\\t{(mr-ms):.16f}\\n\")"
   ]
  },
  {
   "cell_type": "code",
   "execution_count": null,
   "id": "2ca968d6",
   "metadata": {},
   "outputs": [],
   "source": []
  }
 ],
 "metadata": {
  "kernelspec": {
   "display_name": "Python 3 (ipykernel)",
   "language": "python",
   "name": "python3"
  },
  "language_info": {
   "codemirror_mode": {
    "name": "ipython",
    "version": 3
   },
   "file_extension": ".py",
   "mimetype": "text/x-python",
   "name": "python",
   "nbconvert_exporter": "python",
   "pygments_lexer": "ipython3",
   "version": "3.11.4"
  }
 },
 "nbformat": 4,
 "nbformat_minor": 5
}
