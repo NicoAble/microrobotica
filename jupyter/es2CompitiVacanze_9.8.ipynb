{
 "cells": [
  {
   "cell_type": "code",
   "execution_count": 1,
   "id": "49bf5825",
   "metadata": {},
   "outputs": [],
   "source": [
    "def is_palindrome(number):\n",
    "    # Verifica se il numero è un palindromo.\n",
    "    return str(number) == str(number)[::-1]\n",
    "\n",
    "def find_initial_mileage():\n",
    "    for mileage in range(100000, 1000000):\n",
    "        if (is_palindrome(mileage % 10000) and\n",
    "            is_palindrome(mileage // 10 % 10000) and\n",
    "            is_palindrome(mileage // 100 % 10000) and\n",
    "            is_palindrome(mileage // 1000 % 10000)):\n",
    "            return mileage"
   ]
  },
  {
   "cell_type": "code",
   "execution_count": 2,
   "id": "ebd91acf",
   "metadata": {},
   "outputs": [],
   "source": [
    "def main():\n",
    "    initial_mileage = find_initial_mileage()\n",
    "    print(f\"Il valore iniziale del contachilometri era: {initial_mileage}\")"
   ]
  },
  {
   "cell_type": "code",
   "execution_count": 3,
   "id": "30d71d76",
   "metadata": {},
   "outputs": [
    {
     "name": "stdout",
     "output_type": "stream",
     "text": [
      "Il valore iniziale del contachilometri era: 111111\n"
     ]
    }
   ],
   "source": [
    "if __name__ == '__main__':\n",
    "    main()"
   ]
  },
  {
   "cell_type": "code",
   "execution_count": null,
   "id": "b10adb6c",
   "metadata": {},
   "outputs": [],
   "source": []
  }
 ],
 "metadata": {
  "kernelspec": {
   "display_name": "Python 3 (ipykernel)",
   "language": "python",
   "name": "python3"
  },
  "language_info": {
   "codemirror_mode": {
    "name": "ipython",
    "version": 3
   },
   "file_extension": ".py",
   "mimetype": "text/x-python",
   "name": "python",
   "nbconvert_exporter": "python",
   "pygments_lexer": "ipython3",
   "version": "3.11.4"
  }
 },
 "nbformat": 4,
 "nbformat_minor": 5
}
