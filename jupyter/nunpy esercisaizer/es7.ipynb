{
 "cells": [
  {
   "cell_type": "markdown",
   "id": "0936ef47",
   "metadata": {},
   "source": [
    "### es_7"
   ]
  },
  {
   "cell_type": "code",
   "execution_count": 1,
   "id": "5a1f65b1",
   "metadata": {},
   "outputs": [],
   "source": [
    "import numpy as np"
   ]
  },
  {
   "cell_type": "code",
   "execution_count": 30,
   "id": "1f78881d",
   "metadata": {},
   "outputs": [],
   "source": [
    "n=1001"
   ]
  },
  {
   "cell_type": "code",
   "execution_count": 31,
   "id": "5005a14a",
   "metadata": {},
   "outputs": [],
   "source": [
    "array = np.ones((n, n), dtype=np.int8)"
   ]
  },
  {
   "cell_type": "code",
   "execution_count": 32,
   "id": "1fdaf673",
   "metadata": {},
   "outputs": [
    {
     "data": {
      "text/plain": [
       "array([[1, 1, 1, ..., 1, 1, 1],\n",
       "       [1, 2, 2, ..., 2, 2, 1],\n",
       "       [1, 2, 3, ..., 3, 2, 1],\n",
       "       ...,\n",
       "       [1, 2, 3, ..., 3, 2, 1],\n",
       "       [1, 2, 2, ..., 2, 2, 1],\n",
       "       [1, 1, 1, ..., 1, 1, 1]], dtype=int8)"
      ]
     },
     "execution_count": 32,
     "metadata": {},
     "output_type": "execute_result"
    }
   ],
   "source": [
    "for i in range(1, n//2+1):\n",
    "    array[i:-i, i:-i]+=1\n",
    "array"
   ]
  },
  {
   "cell_type": "code",
   "execution_count": 35,
   "id": "d9a69e9b",
   "metadata": {},
   "outputs": [
    {
     "data": {
      "text/plain": [
       "<matplotlib.image.AxesImage at 0x1f467b5bb50>"
      ]
     },
     "execution_count": 35,
     "metadata": {},
     "output_type": "execute_result"
    },
    {
     "data": {
      "image/png": "[encoded data removed]",
      "text/plain": [
       "<Figure size 640x480 with 1 Axes>"
      ]
     },
     "metadata": {},
     "output_type": "display_data"
    }
   ],
   "source": [
    "import matplotlib.pyplot as plt\n",
    "plt.imshow(array, cmap=\"Blues\")"
   ]
  },
  {
   "cell_type": "code",
   "execution_count": null,
   "id": "cd4efdcb",
   "metadata": {},
   "outputs": [],
   "source": [
    "array[1:-1, 1:-1]+=1\n",
    "array"
   ]
  },
  {
   "cell_type": "code",
   "execution_count": null,
   "id": "8fda31cd",
   "metadata": {},
   "outputs": [],
   "source": [
    "array[2:-2, 2:-2]+=1\n",
    "array"
   ]
  },
  {
   "cell_type": "code",
   "execution_count": null,
   "id": "47ad75fb",
   "metadata": {},
   "outputs": [],
   "source": []
  },
  {
   "cell_type": "code",
   "execution_count": null,
   "id": "d6caee41",
   "metadata": {},
   "outputs": [],
   "source": [
    "array[1:-1:7, 1:-1]=2\n",
    "array[1:-1, 1:-1:7]=2"
   ]
  },
  {
   "cell_type": "code",
   "execution_count": null,
   "id": "9881fba1",
   "metadata": {},
   "outputs": [],
   "source": [
    "array[2:-2:5, 2:-2]=3\n",
    "array[2:-2, 2:-2:5]=3"
   ]
  },
  {
   "cell_type": "code",
   "execution_count": null,
   "id": "755e8269",
   "metadata": {},
   "outputs": [],
   "source": [
    "array[3:-3:3, 3:-3]=4\n",
    "array[3:-3, 3:-3:3]=4"
   ]
  },
  {
   "cell_type": "code",
   "execution_count": null,
   "id": "5cec30eb",
   "metadata": {},
   "outputs": [],
   "source": [
    "array[4:-4, 4:-4]=5\n",
    "array[4:-4, 4:-4]=5"
   ]
  },
  {
   "cell_type": "code",
   "execution_count": null,
   "id": "788ccade",
   "metadata": {},
   "outputs": [],
   "source": [
    "array"
   ]
  },
  {
   "cell_type": "code",
   "execution_count": null,
   "id": "99582c2c",
   "metadata": {},
   "outputs": [],
   "source": []
  }
 ],
 "metadata": {
  "kernelspec": {
   "display_name": "Python 3 (ipykernel)",
   "language": "python",
   "name": "python3"
  },
  "language_info": {
   "codemirror_mode": {
    "name": "ipython",
    "version": 3
   },
   "file_extension": ".py",
   "mimetype": "text/x-python",
   "name": "python",
   "nbconvert_exporter": "python",
   "pygments_lexer": "ipython3",
   "version": "3.11.4"
  }
 },
 "nbformat": 4,
 "nbformat_minor": 5
}
