{
 "cells": [
  {
   "cell_type": "markdown",
   "id": "32c2fb59",
   "metadata": {},
   "source": [
    "# es_pag.102"
   ]
  },
  {
   "cell_type": "code",
   "execution_count": 11,
   "id": "b5825519",
   "metadata": {},
   "outputs": [],
   "source": [
    "import numpy as np\n",
    "import uuid"
   ]
  },
  {
   "cell_type": "code",
   "execution_count": 6,
   "id": "85af58e9",
   "metadata": {},
   "outputs": [
    {
     "data": {
      "text/plain": [
       "array([36.80191855, 36.96114611, 36.53244556, ..., 37.2219307 ,\n",
       "       36.52700828, 37.0329609 ])"
      ]
     },
     "execution_count": 6,
     "metadata": {},
     "output_type": "execute_result"
    }
   ],
   "source": [
    "nPasseggeri = 200000\n",
    "temperature = np.random.normal(36.5, 0.5, nPasseggeri)\n",
    "temperature"
   ]
  },
  {
   "cell_type": "code",
   "execution_count": 10,
   "id": "cf16b053",
   "metadata": {},
   "outputs": [
    {
     "data": {
      "text/plain": [
       "4567"
      ]
     },
     "execution_count": 10,
     "metadata": {},
     "output_type": "execute_result"
    }
   ],
   "source": [
    "len(temperature[temperature>37.5])"
   ]
  },
  {
   "cell_type": "code",
   "execution_count": 14,
   "id": "3a676c0d",
   "metadata": {},
   "outputs": [
    {
     "data": {
      "text/plain": [
       "200000"
      ]
     },
     "execution_count": 14,
     "metadata": {},
     "output_type": "execute_result"
    }
   ],
   "source": [
    "identificativi = np.array([str(uuid.uuid4()) for _ in range (nPasseggeri)])\n",
    "len(identificativi)"
   ]
  },
  {
   "cell_type": "code",
   "execution_count": 18,
   "id": "ef1f7712",
   "metadata": {},
   "outputs": [
    {
     "data": {
      "text/plain": [
       "4567"
      ]
     },
     "execution_count": 18,
     "metadata": {},
     "output_type": "execute_result"
    }
   ],
   "source": [
    "len(identificativi[temperature>37.5])"
   ]
  },
  {
   "cell_type": "code",
   "execution_count": null,
   "id": "62f60879",
   "metadata": {},
   "outputs": [],
   "source": []
  }
 ],
 "metadata": {
  "kernelspec": {
   "display_name": "Python 3 (ipykernel)",
   "language": "python",
   "name": "python3"
  },
  "language_info": {
   "codemirror_mode": {
    "name": "ipython",
    "version": 3
   },
   "file_extension": ".py",
   "mimetype": "text/x-python",
   "name": "python",
   "nbconvert_exporter": "python",
   "pygments_lexer": "ipython3",
   "version": "3.11.4"
  }
 },
 "nbformat": 4,
 "nbformat_minor": 5
}
