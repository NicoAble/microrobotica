{
 "cells": [
  {
   "cell_type": "markdown",
   "id": "798740e5",
   "metadata": {},
   "source": [
    "## es_9"
   ]
  },
  {
   "cell_type": "code",
   "execution_count": 1,
   "id": "218a2c83",
   "metadata": {},
   "outputs": [],
   "source": [
    "import numpy as np"
   ]
  },
  {
   "cell_type": "code",
   "execution_count": 10,
   "id": "2261857e",
   "metadata": {},
   "outputs": [
    {
     "data": {
      "text/plain": [
       "array([1.6180253 , 1.70837632, 1.67739926, 1.56773099, 1.64955871,\n",
       "       1.58745848, 1.69884467, 1.62507411, 1.66696426, 1.83348883,\n",
       "       1.72459234, 1.75480738, 1.74273423, 1.64929387, 1.76753911,\n",
       "       1.70793692, 1.57348282, 1.64819932, 1.67456077, 1.76741797,\n",
       "       1.70409402, 1.63088875])"
      ]
     },
     "execution_count": 10,
     "metadata": {},
     "output_type": "execute_result"
    }
   ],
   "source": [
    "array=[1.60, 1.65, 1.70, 1.75, 1.62, 1.68, 1.73, 1.59, 1.63, 1.67, 1.71, 1.76,\n",
    "       1.64, 1.69, 1.74, 1.61, 1.66,1.72, 1.77, 1.58, 1.54, 1.82]\n",
    "np.random.normal(np.mean(array), np.std(array), len(array))"
   ]
  },
  {
   "cell_type": "code",
   "execution_count": null,
   "id": "36410597",
   "metadata": {},
   "outputs": [],
   "source": []
  }
 ],
 "metadata": {
  "kernelspec": {
   "display_name": "Python 3 (ipykernel)",
   "language": "python",
   "name": "python3"
  },
  "language_info": {
   "codemirror_mode": {
    "name": "ipython",
    "version": 3
   },
   "file_extension": ".py",
   "mimetype": "text/x-python",
   "name": "python",
   "nbconvert_exporter": "python",
   "pygments_lexer": "ipython3",
   "version": "3.11.4"
  }
 },
 "nbformat": 4,
 "nbformat_minor": 5
}
