{
 "cells": [
  {
   "cell_type": "markdown",
   "id": "da307af7",
   "metadata": {},
   "source": [
    "## es_1\n",
    "dato n creare un array 1d\n",
    "\n",
    "    [0,1,0,1,0,1.....] \n",
    "    \n",
    "per n volte"
   ]
  },
  {
   "cell_type": "code",
   "execution_count": 2,
   "id": "a9be692b",
   "metadata": {},
   "outputs": [],
   "source": [
    "import numpy as np"
   ]
  },
  {
   "cell_type": "code",
   "execution_count": 9,
   "id": "6207f29e",
   "metadata": {},
   "outputs": [
    {
     "data": {
      "text/plain": [
       "array([0., 1., 0., 1., 0.])"
      ]
     },
     "execution_count": 9,
     "metadata": {},
     "output_type": "execute_result"
    }
   ],
   "source": [
    "n= 5\n",
    "array = np.ones(n)\n",
    "array[0:n:2]=0\n",
    "array"
   ]
  },
  {
   "cell_type": "markdown",
   "id": "23a2d416",
   "metadata": {},
   "source": [
    "## es_2\n",
    "matrice n colonne e n righe"
   ]
  },
  {
   "cell_type": "code",
   "execution_count": 52,
   "id": "68e5a7fc",
   "metadata": {},
   "outputs": [
    {
     "name": "stdout",
     "output_type": "stream",
     "text": [
      "[[0 0 0 0 0]\n",
      " [0 0 0 0 0]\n",
      " [0 0 0 0 0]\n",
      " [0 0 0 0 0]\n",
      " [0 0 0 0 0]]\n"
     ]
    },
    {
     "data": {
      "text/plain": [
       "array([[0, 1, 0, 1, 0],\n",
       "       [0, 0, 0, 0, 0],\n",
       "       [0, 1, 0, 1, 0],\n",
       "       [0, 0, 0, 0, 0],\n",
       "       [0, 1, 0, 1, 0]], dtype=int8)"
      ]
     },
     "execution_count": 52,
     "metadata": {},
     "output_type": "execute_result"
    }
   ],
   "source": [
    "array = np.zeros((n, n), dtype=np.int8)\n",
    "print(array)\n",
    "array[::2, 1::2] = 1\n",
    "array[1::2, ::2] = 0\n",
    "array"
   ]
  },
  {
   "cell_type": "markdown",
   "id": "05682f9b",
   "metadata": {},
   "source": [
    "## es_3\n",
    "trovare massimi e minimi locali e globali \n",
    "dato \n",
    "\n",
    "    v=np.array([1,2,3,1,-2,4,3,1,2])"
   ]
  },
  {
   "cell_type": "code",
   "execution_count": 3,
   "id": "9c86d7b2",
   "metadata": {},
   "outputs": [],
   "source": [
    "v=np.array([1,2,3,1,-2,4,3,1,2])"
   ]
  },
  {
   "cell_type": "code",
   "execution_count": 4,
   "id": "a6b22f3c",
   "metadata": {},
   "outputs": [
    {
     "data": {
      "text/plain": [
       "4"
      ]
     },
     "execution_count": 4,
     "metadata": {},
     "output_type": "execute_result"
    }
   ],
   "source": [
    "np.max(v)"
   ]
  },
  {
   "cell_type": "code",
   "execution_count": 6,
   "id": "49287fa4",
   "metadata": {},
   "outputs": [
    {
     "data": {
      "text/plain": [
       "array([ 2,  1,  2,  3,  1, -2,  4,  3,  1])"
      ]
     },
     "execution_count": 6,
     "metadata": {},
     "output_type": "execute_result"
    }
   ],
   "source": [
    "array_dx = np.roll(v, 1)\n",
    "array_dx"
   ]
  },
  {
   "cell_type": "code",
   "execution_count": 7,
   "id": "c64d6b66",
   "metadata": {},
   "outputs": [
    {
     "data": {
      "text/plain": [
       "array([ 2,  3,  1, -2,  4,  3,  1,  2,  1])"
      ]
     },
     "execution_count": 7,
     "metadata": {},
     "output_type": "execute_result"
    }
   ],
   "source": [
    "array_sx = np.roll(v, -1)\n",
    "array_sx"
   ]
  },
  {
   "cell_type": "code",
   "execution_count": 8,
   "id": "961f6314",
   "metadata": {},
   "outputs": [
    {
     "data": {
      "text/plain": [
       "array([False, False,  True, False, False,  True, False, False,  True])"
      ]
     },
     "execution_count": 8,
     "metadata": {},
     "output_type": "execute_result"
    }
   ],
   "source": [
    "(v > array_sx) & (v > array_dx)"
   ]
  },
  {
   "cell_type": "code",
   "execution_count": 9,
   "id": "094dd43c",
   "metadata": {},
   "outputs": [
    {
     "data": {
      "text/plain": [
       "array([3, 4, 2])"
      ]
     },
     "execution_count": 9,
     "metadata": {},
     "output_type": "execute_result"
    }
   ],
   "source": [
    "v1 = v[(v > array_sx) & (v > array_dx)] #vettorizzazione\n",
    "v1"
   ]
  },
  {
   "cell_type": "code",
   "execution_count": 39,
   "id": "20f14f66",
   "metadata": {},
   "outputs": [
    {
     "data": {
      "text/plain": [
       "array([ 1, -2,  1])"
      ]
     },
     "execution_count": 39,
     "metadata": {},
     "output_type": "execute_result"
    }
   ],
   "source": [
    "v[(v < array_sx) & (v < array_dx)]"
   ]
  }
 ],
 "metadata": {
  "kernelspec": {
   "display_name": "Python 3 (ipykernel)",
   "language": "python",
   "name": "python3"
  },
  "language_info": {
   "codemirror_mode": {
    "name": "ipython",
    "version": 3
   },
   "file_extension": ".py",
   "mimetype": "text/x-python",
   "name": "python",
   "nbconvert_exporter": "python",
   "pygments_lexer": "ipython3",
   "version": "3.11.4"
  }
 },
 "nbformat": 4,
 "nbformat_minor": 5
}
