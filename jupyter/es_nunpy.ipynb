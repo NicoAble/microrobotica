{
 "cells": [
  {
   "cell_type": "code",
   "execution_count": 2,
   "id": "a95d8eb3",
   "metadata": {},
   "outputs": [],
   "source": [
    "import numpy as np"
   ]
  },
  {
   "cell_type": "code",
   "execution_count": null,
   "id": "c8923548",
   "metadata": {},
   "outputs": [],
   "source": [
    "%%timeit\n",
    "quadrati=[]\n",
    "for i in range(1000000):\n",
    "    quadrati.append(i**2)"
   ]
  },
  {
   "cell_type": "code",
   "execution_count": null,
   "id": "2807842f",
   "metadata": {},
   "outputs": [],
   "source": [
    "quadrati"
   ]
  },
  {
   "cell_type": "code",
   "execution_count": null,
   "id": "b6965b83",
   "metadata": {},
   "outputs": [],
   "source": [
    "%%timeit\n",
    "quadrati = np.arange(0, 1000000) **2"
   ]
  },
  {
   "cell_type": "markdown",
   "id": "106e2f8a",
   "metadata": {},
   "source": [
    "## Creare gli array unidimensionali"
   ]
  },
  {
   "cell_type": "code",
   "execution_count": 4,
   "id": "1fbf2a6c",
   "metadata": {},
   "outputs": [
    {
     "data": {
      "text/plain": [
       "dtype('float64')"
      ]
     },
     "execution_count": 4,
     "metadata": {},
     "output_type": "execute_result"
    }
   ],
   "source": [
    "array_di_zeri = np.zeros(10)\n",
    "array_di_zeri.dtype"
   ]
  },
  {
   "cell_type": "code",
   "execution_count": 6,
   "id": "854bb5b3",
   "metadata": {},
   "outputs": [
    {
     "data": {
      "text/plain": [
       "array([0, 0, 0, 0, 0, 0, 0, 0, 0, 0], dtype=int8)"
      ]
     },
     "execution_count": 6,
     "metadata": {},
     "output_type": "execute_result"
    }
   ],
   "source": [
    "array_di_zeri_int=np.zeros(10, dtype=np.int8)\n",
    "array_di_zeri_int"
   ]
  },
  {
   "cell_type": "code",
   "execution_count": 7,
   "id": "0b7d3abb",
   "metadata": {},
   "outputs": [
    {
     "data": {
      "text/plain": [
       "array([1., 1., 1., 1., 1., 1., 1., 1., 1., 1.])"
      ]
     },
     "execution_count": 7,
     "metadata": {},
     "output_type": "execute_result"
    }
   ],
   "source": [
    "array_di_uni=np.ones(10)\n",
    "array_di_uni"
   ]
  },
  {
   "cell_type": "code",
   "execution_count": 9,
   "id": "6c294e4e",
   "metadata": {},
   "outputs": [
    {
     "data": {
      "text/plain": [
       "array([5., 5., 5., 5., 5., 5., 5., 5., 5., 5.])"
      ]
     },
     "execution_count": 9,
     "metadata": {},
     "output_type": "execute_result"
    }
   ],
   "source": [
    "array_di_cinque=np.ones(10)*5 #ogni elemento viene moltiplicato--> BROADCAST\n",
    "array_di_cinque"
   ]
  },
  {
   "cell_type": "code",
   "execution_count": 10,
   "id": "9fbb5413",
   "metadata": {},
   "outputs": [
    {
     "data": {
      "text/plain": [
       "array([   1,    2,    3, 1000])"
      ]
     },
     "execution_count": 10,
     "metadata": {},
     "output_type": "execute_result"
    }
   ],
   "source": [
    "array_da_lista_numeri=np.array([1, 2, 3, 1000])\n",
    "array_da_lista_numeri"
   ]
  },
  {
   "cell_type": "code",
   "execution_count": 11,
   "id": "75960b4f",
   "metadata": {},
   "outputs": [
    {
     "data": {
      "text/plain": [
       "array(['1', '2', '3', '1000', 'c'], dtype='<U11')"
      ]
     },
     "execution_count": 11,
     "metadata": {},
     "output_type": "execute_result"
    }
   ],
   "source": [
    "array_da_lista_numeri=np.array([1, 2, 3, 1000, \"c\"])\n",
    "array_da_lista_numeri"
   ]
  },
  {
   "cell_type": "code",
   "execution_count": 13,
   "id": "e2272a0d",
   "metadata": {},
   "outputs": [
    {
     "data": {
      "text/plain": [
       "array([3.0752521 , 4.08852266, 3.92355179, 3.83631081, 3.10950301,\n",
       "       3.85496126, 4.18809359, 3.55431324, 3.77137219, 3.51163437])"
      ]
     },
     "execution_count": 13,
     "metadata": {},
     "output_type": "execute_result"
    }
   ],
   "source": [
    "np.random.uniform(3,5, 10) #ritorna un numero float tra n1 e n2, n3 è il numero di volte di estrazione: dimensione array"
   ]
  },
  {
   "cell_type": "code",
   "execution_count": 21,
   "id": "308625e2",
   "metadata": {},
   "outputs": [
    {
     "data": {
      "text/plain": [
       "array([4, 1, 6, 1, 6, 2, 5, 1, 6, 2])"
      ]
     },
     "execution_count": 21,
     "metadata": {},
     "output_type": "execute_result"
    }
   ],
   "source": [
    "int_casuali = np.random.randint(1, 7, 10) #sorteggiati tra 1 incluso e 7 escuso\n",
    "int_casuali"
   ]
  },
  {
   "cell_type": "code",
   "execution_count": 29,
   "id": "d655465b",
   "metadata": {},
   "outputs": [],
   "source": [
    "alice = np.random.randint(1,7,10)\n",
    "bob = np.random.randint(1,7,10)"
   ]
  },
  {
   "cell_type": "code",
   "execution_count": null,
   "id": "9da6362c",
   "metadata": {},
   "outputs": [],
   "source": []
  },
  {
   "cell_type": "code",
   "execution_count": 31,
   "id": "7b24d28b",
   "metadata": {},
   "outputs": [
    {
     "data": {
      "text/plain": [
       "array([False, False, False, False, False,  True, False,  True,  True,\n",
       "        True])"
      ]
     },
     "execution_count": 31,
     "metadata": {},
     "output_type": "execute_result"
    }
   ],
   "source": [
    "alice > bob"
   ]
  },
  {
   "cell_type": "code",
   "execution_count": 32,
   "id": "f6ee5ffd",
   "metadata": {},
   "outputs": [
    {
     "name": "stdout",
     "output_type": "stream",
     "text": [
      "alice batte bob 4 volte\n"
     ]
    }
   ],
   "source": [
    "print(f\"alice batte bob {np.count_nonzero(alice>bob)} volte\")"
   ]
  },
  {
   "cell_type": "code",
   "execution_count": 34,
   "id": "a4079d8d",
   "metadata": {},
   "outputs": [
    {
     "data": {
      "text/plain": [
       "dtype('bool')"
      ]
     },
     "execution_count": 34,
     "metadata": {},
     "output_type": "execute_result"
    }
   ],
   "source": [
    "vittorie_alice = alice > bob\n",
    "vittorie_alice.dtype"
   ]
  },
  {
   "cell_type": "code",
   "execution_count": 3,
   "id": "1e9ca5cd",
   "metadata": {},
   "outputs": [
    {
     "data": {
      "text/plain": [
       "array([4, 5, 6, 7, 8, 9])"
      ]
     },
     "execution_count": 3,
     "metadata": {},
     "output_type": "execute_result"
    }
   ],
   "source": [
    "array_di_interi=np.arange(4,10)\n",
    "array_di_interi"
   ]
  },
  {
   "cell_type": "code",
   "execution_count": 5,
   "id": "ee685827",
   "metadata": {},
   "outputs": [
    {
     "data": {
      "text/plain": [
       "array([  1,   4,   9,  16,  25,  36,  49,  64,  81, 100])"
      ]
     },
     "execution_count": 5,
     "metadata": {},
     "output_type": "execute_result"
    }
   ],
   "source": [
    "quadrati = np.arange(1, 11)**2\n",
    "quadrati"
   ]
  },
  {
   "cell_type": "code",
   "execution_count": 10,
   "id": "ef40ee19",
   "metadata": {},
   "outputs": [
    {
     "data": {
      "text/plain": [
       "dtype('int32')"
      ]
     },
     "execution_count": 10,
     "metadata": {},
     "output_type": "execute_result"
    }
   ],
   "source": [
    "array1=np.arange(1,5)\n",
    "array1.shape #ti da quanti valori e le dimensioni (in questo caso 1)\n",
    "array1.dtype"
   ]
  },
  {
   "cell_type": "code",
   "execution_count": 9,
   "id": "22f1ea16",
   "metadata": {},
   "outputs": [
    {
     "data": {
      "text/plain": [
       "dtype('float64')"
      ]
     },
     "execution_count": 9,
     "metadata": {},
     "output_type": "execute_result"
    }
   ],
   "source": [
    "array2=np.ones(4)\n",
    "array2.dtype"
   ]
  },
  {
   "cell_type": "code",
   "execution_count": 14,
   "id": "b330deeb",
   "metadata": {},
   "outputs": [
    {
     "data": {
      "text/plain": [
       "array([2., 3., 4., 5.])"
      ]
     },
     "execution_count": 14,
     "metadata": {},
     "output_type": "execute_result"
    }
   ],
   "source": [
    "somma=array1+array2\n",
    "somma"
   ]
  },
  {
   "cell_type": "code",
   "execution_count": 15,
   "id": "23a94a5f",
   "metadata": {},
   "outputs": [
    {
     "data": {
      "text/plain": [
       "dtype('float64')"
      ]
     },
     "execution_count": 15,
     "metadata": {},
     "output_type": "execute_result"
    }
   ],
   "source": [
    "somma.dtype"
   ]
  },
  {
   "cell_type": "markdown",
   "id": "003d2082",
   "metadata": {},
   "source": [
    "## creazione array 1d\n",
    "array di zeri:\n",
    "    \n",
    "    np.zeros()\n",
    "\n",
    "array di uni:\n",
    "    \n",
    "    np.ones()\n",
    "    \n",
    "array da liste:\n",
    "    \n",
    "    np.array()\n",
    "    \n",
    "array di interi crescenti:\n",
    "    \n",
    "    np.arange()\n",
    "    \n",
    "array pseudocasuali:\n",
    "\n",
    "    np.random.randint()\n",
    "    np.random.uniform()"
   ]
  },
  {
   "cell_type": "markdown",
   "id": "251c0659",
   "metadata": {},
   "source": [
    "# Array pseudocasuali"
   ]
  },
  {
   "cell_type": "code",
   "execution_count": 16,
   "id": "69dcf25d",
   "metadata": {},
   "outputs": [
    {
     "data": {
      "text/plain": [
       "array([1, 2, 1, 2, 2, 2, 1, 2, 1, 2])"
      ]
     },
     "execution_count": 16,
     "metadata": {},
     "output_type": "execute_result"
    }
   ],
   "source": [
    "np.random.randint(1,3,10)"
   ]
  },
  {
   "cell_type": "code",
   "execution_count": 17,
   "id": "b5b9b082",
   "metadata": {},
   "outputs": [
    {
     "data": {
      "text/plain": [
       "array([0.29208823, 0.64585185, 0.18135981, 0.50948289, 0.83356059,\n",
       "       0.69660646, 0.15795747, 0.8618208 , 0.07956433, 0.3125469 ])"
      ]
     },
     "execution_count": 17,
     "metadata": {},
     "output_type": "execute_result"
    }
   ],
   "source": [
    "np.random.uniform(0,1,10)"
   ]
  },
  {
   "cell_type": "code",
   "execution_count": 38,
   "id": "c909b1e3",
   "metadata": {},
   "outputs": [
    {
     "data": {
      "text/plain": [
       "array([178.4605771 , 170.3378981 , 177.55017757, ..., 169.11853115,\n",
       "       173.53558974, 175.11697713])"
      ]
     },
     "execution_count": 38,
     "metadata": {},
     "output_type": "execute_result"
    }
   ],
   "source": [
    "altezze = np.random.normal(175,4,10000)\n",
    "altezze"
   ]
  },
  {
   "cell_type": "code",
   "execution_count": 39,
   "id": "c88a102f",
   "metadata": {},
   "outputs": [
    {
     "data": {
      "text/plain": [
       "175.0003565206321"
      ]
     },
     "execution_count": 39,
     "metadata": {},
     "output_type": "execute_result"
    }
   ],
   "source": [
    "np.mean(altezze)"
   ]
  },
  {
   "cell_type": "code",
   "execution_count": 40,
   "id": "e866b807",
   "metadata": {},
   "outputs": [
    {
     "data": {
      "text/plain": [
       "4.024422901891568"
      ]
     },
     "execution_count": 40,
     "metadata": {},
     "output_type": "execute_result"
    }
   ],
   "source": [
    "np.std(altezze)"
   ]
  },
  {
   "cell_type": "markdown",
   "id": "3781a78a",
   "metadata": {},
   "source": [
    "## indicizzazione per booleani\n",
    "### Una delle funzioni più potenti di nunpy"
   ]
  },
  {
   "cell_type": "code",
   "execution_count": 41,
   "id": "57decd81",
   "metadata": {},
   "outputs": [
    {
     "data": {
      "text/plain": [
       "array([4, 4, 5, 1, 3, 2, 1, 1, 2, 6])"
      ]
     },
     "execution_count": 41,
     "metadata": {},
     "output_type": "execute_result"
    }
   ],
   "source": [
    "lanci_dadi = np.random.randint(1,7,10)\n",
    "lanci_dadi"
   ]
  },
  {
   "cell_type": "markdown",
   "id": "1a24a1c8",
   "metadata": {},
   "source": [
    "quali sono i lanci in cui il valore del dado era > 3?"
   ]
  },
  {
   "cell_type": "code",
   "execution_count": 42,
   "id": "15a1d67b",
   "metadata": {},
   "outputs": [
    {
     "data": {
      "text/plain": [
       "array([ True,  True,  True, False, False, False, False, False, False,\n",
       "        True])"
      ]
     },
     "execution_count": 42,
     "metadata": {},
     "output_type": "execute_result"
    }
   ],
   "source": [
    "lanci_gt_3 =lanci_dadi >3\n",
    "lanci_gt_3"
   ]
  },
  {
   "cell_type": "code",
   "execution_count": 43,
   "id": "498a5b31",
   "metadata": {},
   "outputs": [
    {
     "data": {
      "text/plain": [
       "array([4, 4, 5, 6])"
      ]
     },
     "execution_count": 43,
     "metadata": {},
     "output_type": "execute_result"
    }
   ],
   "source": [
    "lanci_dadi[lanci_gt_3] #indicizzo array con array di booleanee"
   ]
  },
  {
   "cell_type": "code",
   "execution_count": 44,
   "id": "e7f84cc0",
   "metadata": {},
   "outputs": [],
   "source": [
    "nomi = np.array([\"Alice\", \"Bob\", \"Trudy\"])\n",
    "voti = np.array([7, 9, 2])"
   ]
  },
  {
   "cell_type": "markdown",
   "id": "50bf55a6",
   "metadata": {},
   "source": [
    "quali alunni sono sufficienti?"
   ]
  },
  {
   "cell_type": "code",
   "execution_count": 45,
   "id": "700b0fae",
   "metadata": {},
   "outputs": [
    {
     "data": {
      "text/plain": [
       "array(['Alice', 'Bob'], dtype='<U5')"
      ]
     },
     "execution_count": 45,
     "metadata": {},
     "output_type": "execute_result"
    }
   ],
   "source": [
    "nomi[voti>6]"
   ]
  },
  {
   "cell_type": "markdown",
   "id": "3a00cbe8",
   "metadata": {},
   "source": [
    "quali punteggi ha fatto alice quando ha vinto?"
   ]
  },
  {
   "cell_type": "code",
   "execution_count": 46,
   "id": "e6d63427",
   "metadata": {},
   "outputs": [
    {
     "data": {
      "text/plain": [
       "array([5, 4, 2, 4, 4])"
      ]
     },
     "execution_count": 46,
     "metadata": {},
     "output_type": "execute_result"
    }
   ],
   "source": [
    "alice = np.random.randint(1,7,10)\n",
    "bob = np.random.randint(1,7,10)\n",
    "alice[alice>bob]"
   ]
  },
  {
   "cell_type": "markdown",
   "id": "082abe4e",
   "metadata": {},
   "source": [
    "### Array bidimensionali\n",
    "es:\n",
    "- un'immagine in scale di grigi\n",
    "- un'immagine RGB a colori costituita da 3 array 2d\n",
    "- un'immagine RGBA a colori è costituita da 4 array 2d\n",
    "- i dati in forma di tabella"
   ]
  },
  {
   "cell_type": "code",
   "execution_count": 7,
   "id": "e72210c6",
   "metadata": {},
   "outputs": [
    {
     "data": {
      "text/plain": [
       "array([[0., 0., 0., 0., 0., 0.],\n",
       "       [0., 0., 0., 0., 0., 0.],\n",
       "       [0., 0., 0., 0., 0., 0.]])"
      ]
     },
     "execution_count": 7,
     "metadata": {},
     "output_type": "execute_result"
    }
   ],
   "source": [
    "matrice_di_zeri = np.zeros((3,6)) #con tupla si crea una matrice\n",
    "matrice_di_zeri"
   ]
  },
  {
   "cell_type": "code",
   "execution_count": 8,
   "id": "2975bfbd",
   "metadata": {},
   "outputs": [
    {
     "data": {
      "text/plain": [
       "(3, 6)"
      ]
     },
     "execution_count": 8,
     "metadata": {},
     "output_type": "execute_result"
    }
   ],
   "source": [
    "matrice_di_zeri.shape"
   ]
  },
  {
   "cell_type": "code",
   "execution_count": 9,
   "id": "22a367c0",
   "metadata": {},
   "outputs": [
    {
     "data": {
      "text/plain": [
       "array([0., 0., 0., 0., 0., 0., 0.])"
      ]
     },
     "execution_count": 9,
     "metadata": {},
     "output_type": "execute_result"
    }
   ],
   "source": [
    "array1d_di_zeri=np.zeros(7)\n",
    "array1d_di_zeri"
   ]
  },
  {
   "cell_type": "code",
   "execution_count": 10,
   "id": "fe8347f1",
   "metadata": {},
   "outputs": [
    {
     "data": {
      "text/plain": [
       "(7,)"
      ]
     },
     "execution_count": 10,
     "metadata": {},
     "output_type": "execute_result"
    }
   ],
   "source": [
    "array1d_di_zeri.shape"
   ]
  },
  {
   "cell_type": "code",
   "execution_count": 13,
   "id": "122d1fde",
   "metadata": {},
   "outputs": [
    {
     "data": {
      "text/plain": [
       "array([[1, 1, 1, 1, 1, 1, 1, 1],\n",
       "       [1, 1, 1, 1, 1, 1, 1, 1],\n",
       "       [1, 1, 1, 1, 1, 1, 1, 1],\n",
       "       [1, 1, 1, 1, 1, 1, 1, 1],\n",
       "       [1, 1, 1, 1, 1, 1, 1, 1],\n",
       "       [1, 1, 1, 1, 1, 1, 1, 1],\n",
       "       [1, 1, 1, 1, 1, 1, 1, 1],\n",
       "       [1, 1, 1, 1, 1, 1, 1, 1],\n",
       "       [1, 1, 1, 1, 1, 1, 1, 1],\n",
       "       [1, 1, 1, 1, 1, 1, 1, 1]], dtype=int8)"
      ]
     },
     "execution_count": 13,
     "metadata": {},
     "output_type": "execute_result"
    }
   ],
   "source": [
    "np.ones((10,8), dtype=np.int8)"
   ]
  },
  {
   "cell_type": "code",
   "execution_count": 15,
   "id": "e1bf121f",
   "metadata": {},
   "outputs": [
    {
     "data": {
      "text/plain": [
       "array([[ 1,  2,  3],\n",
       "       [23, 12, 22]])"
      ]
     },
     "execution_count": 15,
     "metadata": {},
     "output_type": "execute_result"
    }
   ],
   "source": [
    "np.array([[1,2,3], [23,12,22]]) #devono essere rettangolari, se una lunga 4 e una 3 le vede come LISTE"
   ]
  },
  {
   "cell_type": "code",
   "execution_count": 16,
   "id": "93817207",
   "metadata": {},
   "outputs": [
    {
     "data": {
      "text/plain": [
       "dtype('<U11')"
      ]
     },
     "execution_count": 16,
     "metadata": {},
     "output_type": "execute_result"
    }
   ],
   "source": [
    "np.array([[1,2,3], [23,12,'ciao']]).dtype"
   ]
  },
  {
   "cell_type": "code",
   "execution_count": 17,
   "id": "cfd7ecf0",
   "metadata": {},
   "outputs": [
    {
     "data": {
      "text/plain": [
       "array([[6, 3],\n",
       "       [2, 1],\n",
       "       [2, 5],\n",
       "       [5, 1],\n",
       "       [3, 6],\n",
       "       [6, 3],\n",
       "       [1, 4],\n",
       "       [5, 2],\n",
       "       [4, 6],\n",
       "       [6, 1]])"
      ]
     },
     "execution_count": 17,
     "metadata": {},
     "output_type": "execute_result"
    }
   ],
   "source": [
    "np.random.randint(1, 7, (10,2))"
   ]
  },
  {
   "cell_type": "code",
   "execution_count": 21,
   "id": "542c669e",
   "metadata": {},
   "outputs": [
    {
     "data": {
      "text/plain": [
       "array([[[0.91434357, 0.086467  ],\n",
       "        [0.63632601, 0.20857841],\n",
       "        [0.62098906, 0.32073411]],\n",
       "\n",
       "       [[0.30550464, 0.8832814 ],\n",
       "        [0.71904161, 0.18755068],\n",
       "        [0.93771215, 0.81137955]],\n",
       "\n",
       "       [[0.45655556, 0.97729857],\n",
       "        [0.24397838, 0.50595551],\n",
       "        [0.73639013, 0.0782105 ]]])"
      ]
     },
     "execution_count": 21,
     "metadata": {},
     "output_type": "execute_result"
    }
   ],
   "source": [
    "array3D = np.random.uniform(0, 1, (3,3,2))\n",
    "array3D"
   ]
  },
  {
   "cell_type": "markdown",
   "id": "65607678",
   "metadata": {},
   "source": [
    "### Operazioni matematiche di aggregazione\n",
    "Per esempio:\n",
    "- somma\n",
    "- massimo / minimo\n",
    "- media\n",
    "- dev. standard\n",
    "- somma cumulata"
   ]
  },
  {
   "cell_type": "code",
   "execution_count": 23,
   "id": "96551565",
   "metadata": {},
   "outputs": [
    {
     "data": {
      "text/plain": [
       "5050"
      ]
     },
     "execution_count": 23,
     "metadata": {},
     "output_type": "execute_result"
    }
   ],
   "source": [
    "#somma\n",
    "array = np.arange(1, 101)\n",
    "np.sum(array)"
   ]
  },
  {
   "cell_type": "code",
   "execution_count": 27,
   "id": "b4dd062c",
   "metadata": {},
   "outputs": [
    {
     "data": {
      "text/plain": [
       "array([0.91193539, 0.22360979, 0.97706444, 0.0789556 , 0.63812919,\n",
       "       0.35981597, 0.61691892, 0.08155508, 0.44720172, 0.05725906])"
      ]
     },
     "execution_count": 27,
     "metadata": {},
     "output_type": "execute_result"
    }
   ],
   "source": [
    "#massimo / minimo\n",
    "array = np.random.uniform(0,1,10)\n",
    "np.max(array)"
   ]
  },
  {
   "cell_type": "code",
   "execution_count": 28,
   "id": "a2709218",
   "metadata": {},
   "outputs": [
    {
     "data": {
      "text/plain": [
       "0.32254356661308187"
      ]
     },
     "execution_count": 28,
     "metadata": {},
     "output_type": "execute_result"
    }
   ],
   "source": [
    "#dev. standard\n",
    "np.std(array)"
   ]
  },
  {
   "cell_type": "code",
   "execution_count": 30,
   "id": "48404446",
   "metadata": {},
   "outputs": [
    {
     "data": {
      "text/plain": [
       "array([1., 1., 1., 1., 1., 1., 1., 1., 1., 1.])"
      ]
     },
     "execution_count": 30,
     "metadata": {},
     "output_type": "execute_result"
    }
   ],
   "source": [
    "array_di_uni = np.ones(10)\n",
    "array_di_uni"
   ]
  },
  {
   "cell_type": "code",
   "execution_count": 32,
   "id": "3947d525",
   "metadata": {},
   "outputs": [
    {
     "data": {
      "text/plain": [
       "array([ 1.,  2.,  3.,  4.,  5.,  6.,  7.,  8.,  9., 10.])"
      ]
     },
     "execution_count": 32,
     "metadata": {},
     "output_type": "execute_result"
    }
   ],
   "source": [
    "np.cumsum(array_di_uni) #es. terzo elemento = somma dei primi tre"
   ]
  },
  {
   "cell_type": "code",
   "execution_count": 35,
   "id": "c1701cf1",
   "metadata": {},
   "outputs": [],
   "source": [
    "prezzo_apple = 178\n",
    "variazioni = np.array([8, 3, -20, 6]) #aumento o diminuzione delle azioni della apple (giorno 1= +8)"
   ]
  },
  {
   "cell_type": "code",
   "execution_count": 37,
   "id": "5a700cfb",
   "metadata": {},
   "outputs": [
    {
     "data": {
      "text/plain": [
       "array([186, 189, 169, 175])"
      ]
     },
     "execution_count": 37,
     "metadata": {},
     "output_type": "execute_result"
    }
   ],
   "source": [
    "prezzo_apple + np.cumsum(variazioni) #godo"
   ]
  },
  {
   "cell_type": "markdown",
   "id": "d7b1fcba",
   "metadata": {},
   "source": [
    "### Cambiare forma agli array"
   ]
  },
  {
   "cell_type": "code",
   "execution_count": 41,
   "id": "74310b30",
   "metadata": {},
   "outputs": [
    {
     "data": {
      "text/plain": [
       "array([ 1,  2,  3,  4,  5,  6,  7,  8,  9, 10, 11, 12])"
      ]
     },
     "execution_count": 41,
     "metadata": {},
     "output_type": "execute_result"
    }
   ],
   "source": [
    "array_1d = np.arange(1, 13)\n",
    "array_1d"
   ]
  },
  {
   "cell_type": "code",
   "execution_count": 44,
   "id": "3e85172d",
   "metadata": {},
   "outputs": [
    {
     "data": {
      "text/plain": [
       "array([[ 1,  2],\n",
       "       [ 3,  4],\n",
       "       [ 5,  6],\n",
       "       [ 7,  8],\n",
       "       [ 9, 10],\n",
       "       [11, 12]])"
      ]
     },
     "execution_count": 44,
     "metadata": {},
     "output_type": "execute_result"
    }
   ],
   "source": [
    "array_1d.reshape((6,2))"
   ]
  },
  {
   "cell_type": "code",
   "execution_count": 48,
   "id": "c91ef642",
   "metadata": {},
   "outputs": [
    {
     "data": {
      "text/plain": [
       "array([[ 1,  2,  3,  4],\n",
       "       [ 5,  6,  7,  8],\n",
       "       [ 9, 10, 11, 12]])"
      ]
     },
     "execution_count": 48,
     "metadata": {},
     "output_type": "execute_result"
    }
   ],
   "source": [
    "array_1d.reshape((3, -1)) #-1 vuol dire complizazione automatica (in questo caso 4)"
   ]
  },
  {
   "cell_type": "markdown",
   "id": "5352bf8c",
   "metadata": {},
   "source": [
    "#### Esercizio\n",
    "dato n intero generare l'array 2d in questo modo:\n",
    "\n",
    "    [[1, 2, 3, ..., n],\n",
    "     [1, 2, 3, ..., n],\n",
    "     ...\n",
    "     ...\n",
    "     [1, 2, 3, ..., n]]\n",
    "con n righe"
   ]
  },
  {
   "cell_type": "code",
   "execution_count": 62,
   "id": "021dfc71",
   "metadata": {},
   "outputs": [
    {
     "data": {
      "text/plain": [
       "array([[1, 2, 3, 4],\n",
       "       [1, 2, 3, 4],\n",
       "       [1, 2, 3, 4],\n",
       "       [1, 2, 3, 4]])"
      ]
     },
     "execution_count": 62,
     "metadata": {},
     "output_type": "execute_result"
    }
   ],
   "source": [
    "n = 4\n",
    "array_1d = np.arange(1, n*n+1)\n",
    "array2d = (array_1d%n).reshape((n,-1))\n",
    "array2d = 1 + np.roll(array2d, 1)\n",
    "array2d"
   ]
  },
  {
   "cell_type": "code",
   "execution_count": 63,
   "id": "e2f921e2",
   "metadata": {},
   "outputs": [
    {
     "data": {
      "text/plain": [
       "array([1, 2, 3, 4, 1, 2, 3, 4, 1, 2, 3, 4, 1, 2, 3, 4])"
      ]
     },
     "execution_count": 63,
     "metadata": {},
     "output_type": "execute_result"
    }
   ],
   "source": [
    "array2d.reshape(-1)"
   ]
  },
  {
   "cell_type": "code",
   "execution_count": 65,
   "id": "248caf02",
   "metadata": {},
   "outputs": [
    {
     "data": {
      "text/plain": [
       "array([1, 2, 3, 4, 1, 2, 3, 4, 1, 2, 3, 4, 1, 2, 3, 4])"
      ]
     },
     "execution_count": 65,
     "metadata": {},
     "output_type": "execute_result"
    }
   ],
   "source": [
    "array2d.flatten()"
   ]
  },
  {
   "cell_type": "markdown",
   "id": "43538bb8",
   "metadata": {},
   "source": [
    "### Slicing"
   ]
  },
  {
   "cell_type": "code",
   "execution_count": 67,
   "id": "ca92ad85",
   "metadata": {},
   "outputs": [
    {
     "data": {
      "text/plain": [
       "array([ 1,  2,  3,  4,  5,  6,  7,  8,  9, 10])"
      ]
     },
     "execution_count": 67,
     "metadata": {},
     "output_type": "execute_result"
    }
   ],
   "source": [
    "array1d = np.arange(1,11)\n",
    "array1d"
   ]
  },
  {
   "cell_type": "code",
   "execution_count": 68,
   "id": "d7a4dad0",
   "metadata": {},
   "outputs": [
    {
     "data": {
      "text/plain": [
       "4"
      ]
     },
     "execution_count": 68,
     "metadata": {},
     "output_type": "execute_result"
    }
   ],
   "source": [
    "array1d[3]"
   ]
  },
  {
   "cell_type": "code",
   "execution_count": 69,
   "id": "bf504e75",
   "metadata": {},
   "outputs": [
    {
     "data": {
      "text/plain": [
       "array([4, 5, 6, 7, 8])"
      ]
     },
     "execution_count": 69,
     "metadata": {},
     "output_type": "execute_result"
    }
   ],
   "source": [
    "array1d[3:8]"
   ]
  },
  {
   "cell_type": "code",
   "execution_count": 70,
   "id": "f19a3e95",
   "metadata": {},
   "outputs": [
    {
     "data": {
      "text/plain": [
       "10"
      ]
     },
     "execution_count": 70,
     "metadata": {},
     "output_type": "execute_result"
    }
   ],
   "source": [
    "array1d[-1]"
   ]
  },
  {
   "cell_type": "code",
   "execution_count": 71,
   "id": "0afe832c",
   "metadata": {},
   "outputs": [
    {
     "data": {
      "text/plain": [
       "9"
      ]
     },
     "execution_count": 71,
     "metadata": {},
     "output_type": "execute_result"
    }
   ],
   "source": [
    "array1d[-2]"
   ]
  },
  {
   "cell_type": "code",
   "execution_count": 72,
   "id": "83092ca0",
   "metadata": {},
   "outputs": [
    {
     "data": {
      "text/plain": [
       "array([2, 3, 4, 5, 6, 7, 8, 9])"
      ]
     },
     "execution_count": 72,
     "metadata": {},
     "output_type": "execute_result"
    }
   ],
   "source": [
    "array1d[1:-1]"
   ]
  },
  {
   "cell_type": "code",
   "execution_count": 73,
   "id": "ff661a64",
   "metadata": {},
   "outputs": [
    {
     "data": {
      "text/plain": [
       "array([ 2,  3,  4,  5,  6,  7,  8,  9, 10])"
      ]
     },
     "execution_count": 73,
     "metadata": {},
     "output_type": "execute_result"
    }
   ],
   "source": [
    "array1d[1:]"
   ]
  },
  {
   "cell_type": "code",
   "execution_count": 74,
   "id": "e39708ec",
   "metadata": {},
   "outputs": [
    {
     "data": {
      "text/plain": [
       "array([4, 6, 8])"
      ]
     },
     "execution_count": 74,
     "metadata": {},
     "output_type": "execute_result"
    }
   ],
   "source": [
    "array1d[3:8:2]"
   ]
  },
  {
   "cell_type": "code",
   "execution_count": 83,
   "id": "573caf12",
   "metadata": {},
   "outputs": [
    {
     "data": {
      "text/plain": [
       "array([[0.77132064, 0.02075195, 0.63364823],\n",
       "       [0.74880388, 0.49850701, 0.22479665],\n",
       "       [0.19806286, 0.76053071, 0.16911084]])"
      ]
     },
     "execution_count": 83,
     "metadata": {},
     "output_type": "execute_result"
    }
   ],
   "source": [
    "np.random.seed(10)\n",
    "array2d = np.random.uniform(0, 1, (3,3))\n",
    "array2d"
   ]
  },
  {
   "cell_type": "code",
   "execution_count": 76,
   "id": "62c5ccf5",
   "metadata": {},
   "outputs": [
    {
     "data": {
      "text/plain": [
       "0.771320643266746"
      ]
     },
     "execution_count": 76,
     "metadata": {},
     "output_type": "execute_result"
    }
   ],
   "source": [
    "array2d[0, 0]"
   ]
  },
  {
   "cell_type": "code",
   "execution_count": 77,
   "id": "0dfbed4f",
   "metadata": {},
   "outputs": [
    {
     "data": {
      "text/plain": [
       "0.22479664553084766"
      ]
     },
     "execution_count": 77,
     "metadata": {},
     "output_type": "execute_result"
    }
   ],
   "source": [
    "array2d[1, 2]"
   ]
  },
  {
   "cell_type": "code",
   "execution_count": 78,
   "id": "10dede9b",
   "metadata": {},
   "outputs": [
    {
     "data": {
      "text/plain": [
       "array([[0.74880388, 0.49850701, 0.22479665],\n",
       "       [0.19806286, 0.76053071, 0.16911084]])"
      ]
     },
     "execution_count": 78,
     "metadata": {},
     "output_type": "execute_result"
    }
   ],
   "source": [
    "array2d[1:]"
   ]
  },
  {
   "cell_type": "code",
   "execution_count": 79,
   "id": "9d864065",
   "metadata": {},
   "outputs": [
    {
     "data": {
      "text/plain": [
       "array([[0.02075195, 0.63364823],\n",
       "       [0.49850701, 0.22479665],\n",
       "       [0.76053071, 0.16911084]])"
      ]
     },
     "execution_count": 79,
     "metadata": {},
     "output_type": "execute_result"
    }
   ],
   "source": [
    "array2d[:, 1:]"
   ]
  },
  {
   "cell_type": "code",
   "execution_count": 80,
   "id": "1aaf018a",
   "metadata": {},
   "outputs": [
    {
     "data": {
      "text/plain": [
       "array([[0.49850701, 0.22479665],\n",
       "       [0.76053071, 0.16911084]])"
      ]
     },
     "execution_count": 80,
     "metadata": {},
     "output_type": "execute_result"
    }
   ],
   "source": [
    "array2d[1:, 1:]"
   ]
  },
  {
   "cell_type": "code",
   "execution_count": 84,
   "id": "9ce9fd96",
   "metadata": {},
   "outputs": [
    {
     "data": {
      "text/plain": [
       "array([[0.77132064, 0.02075195, 0.63364823],\n",
       "       [0.74880388, 0.        , 0.        ],\n",
       "       [0.19806286, 0.        , 0.        ]])"
      ]
     },
     "execution_count": 84,
     "metadata": {},
     "output_type": "execute_result"
    }
   ],
   "source": [
    "array2d[1:, 1:] = 0\n",
    "array2d"
   ]
  },
  {
   "cell_type": "code",
   "execution_count": null,
   "id": "55ad814b",
   "metadata": {},
   "outputs": [],
   "source": []
  }
 ],
 "metadata": {
  "kernelspec": {
   "display_name": "Python 3 (ipykernel)",
   "language": "python",
   "name": "python3"
  },
  "language_info": {
   "codemirror_mode": {
    "name": "ipython",
    "version": 3
   },
   "file_extension": ".py",
   "mimetype": "text/x-python",
   "name": "python",
   "nbconvert_exporter": "python",
   "pygments_lexer": "ipython3",
   "version": "3.11.4"
  }
 },
 "nbformat": 4,
 "nbformat_minor": 5
}
